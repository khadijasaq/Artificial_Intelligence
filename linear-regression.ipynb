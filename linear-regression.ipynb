{
 "cells": [
  {
   "cell_type": "markdown",
   "id": "19109e28",
   "metadata": {},
   "source": [
    "### Import Libraries"
   ]
  },
  {
   "cell_type": "code",
   "execution_count": null,
   "id": "d0ef49ce",
   "metadata": {},
   "outputs": [],
   "source": [
    "import numpy as np\n",
    "import pandas as pd"
   ]
  },
  {
   "cell_type": "markdown",
   "id": "5b1d4317",
   "metadata": {},
   "source": []
  },
  {
   "cell_type": "markdown",
   "id": "d7d70660",
   "metadata": {},
   "source": [
    "### Load Dataset"
   ]
  },
  {
   "cell_type": "code",
   "execution_count": null,
   "id": "759216dd",
   "metadata": {},
   "outputs": [],
   "source": [
    "###Load data here###\n",
    "\n",
    "data = pd.read_csv('data.csv')\n",
    "print(data.head())"
   ]
  },
  {
   "cell_type": "markdown",
   "id": "76272a3d",
   "metadata": {},
   "source": [
    "### Visualize Data"
   ]
  },
  {
   "cell_type": "code",
   "execution_count": 34,
   "id": "230eaba3",
   "metadata": {},
   "outputs": [
    {
     "data": {
      "image/png": "[encoded data removed]",
      "text/plain": [
       "<Figure size 640x480 with 1 Axes>"
      ]
     },
     "metadata": {},
     "output_type": "display_data"
    }
   ],
   "source": [
    "##Run this cell to visualize the data###\n",
    "import matplotlib.pyplot as plt\n",
    "\n",
    "plt.scatter(x=data.Area.values, y=data.Price.values)\n",
    "plt.show()"
   ]
  },
  {
   "cell_type": "markdown",
   "id": "709ca5c5",
   "metadata": {},
   "source": [
    "### Check for Missing Values"
   ]
  },
  {
   "cell_type": "code",
   "execution_count": 35,
   "id": "be32dbb6",
   "metadata": {},
   "outputs": [
    {
     "name": "stdout",
     "output_type": "stream",
     "text": [
      "Missing values in each column:\n",
      "Bedrooms    0\n",
      "Area        0\n",
      "Price       0\n",
      "dtype: int64\n"
     ]
    }
   ],
   "source": [
    "###Check for Missing Data###\n",
    "missing_values = data.isnull().sum()\n",
    "print(\"Missing values in each column:\")\n",
    "print(missing_values)"
   ]
  },
  {
   "cell_type": "markdown",
   "id": "a49964dd",
   "metadata": {},
   "source": [
    "### Perform Minmax Scaling"
   ]
  },
  {
   "cell_type": "code",
   "execution_count": null,
   "id": "c9f04b78",
   "metadata": {},
   "outputs": [],
   "source": [
    "def minmax_scaling (data, column):\n",
    "    min = data[column].min()\n",
    "    max = data[column].max()\n",
    "    return (data[column] - min) / (max - min)"
   ]
  },
  {
   "cell_type": "code",
   "execution_count": null,
   "id": "e7187112",
   "metadata": {},
   "outputs": [],
   "source": [
    "data_copy = data.copy()"
   ]
  },
  {
   "cell_type": "code",
   "execution_count": null,
   "id": "c84e4184",
   "metadata": {},
   "outputs": [],
   "source": [
    "###Apply above function on appropriate columns###\n",
    "data_copy['Area'] = minmax_scaling(data_copy, 'Area')\n",
    "data_copy['Price'] = minmax_scaling(data_copy, 'Price')"
   ]
  },
  {
   "cell_type": "code",
   "execution_count": null,
   "id": "fb8f66d7",
   "metadata": {},
   "outputs": [],
   "source": [
    "print(data_copy.head())"
   ]
  },
  {
   "cell_type": "markdown",
   "id": "011b9faf",
   "metadata": {},
   "source": [
    "### Divide Data into Training and Testing"
   ]
  },
  {
   "cell_type": "code",
   "execution_count": 36,
   "id": "fbcec90e",
   "metadata": {},
   "outputs": [],
   "source": [
    "def train_test_split (data_copy, ratio):\n",
    "    indices = np.random.permutation(data_copy.shape[0])\n",
    "    test_set_size = int(data_copy.shape[0] * ratio)\n",
    "    test_indices = indices[:test_set_size]\n",
    "    train_indices = indices[test_set_size:]\n",
    "\n",
    "    return data_copy.iloc[train_indices], data_copy.iloc[test_indices]#---------------------------------------------"
   ]
  },
  {
   "cell_type": "code",
   "execution_count": null,
   "id": "94cb147f",
   "metadata": {},
   "outputs": [],
   "source": [
    "X_train, X_test = train_test_split(data_copy[['Bedrooms', 'Area']], 0.2)\n",
    "y_train, y_test = train_test_split(data_copy['Price'], 0.2)\n",
    "#y_train.values.reshape(-1, 1)\n",
    "#y_train.values\n",
    "X_train.values\n"
   ]
  },
  {
   "cell_type": "markdown",
   "id": "1e9bca6c",
   "metadata": {},
   "source": [
    "### Calculate Weights Using the Normal Equation Method (Matrix Algebra)"
   ]
  },
  {
   "cell_type": "code",
   "execution_count": null,
   "id": "88aaffba",
   "metadata": {},
   "outputs": [],
   "source": [
    "###Use the np.linalg.inv function to compute the weight vector/array theta (Hint: @ operator in numpy)###\n",
    "###You will be required to extract numpy arrays from the DataFrame (Hint: column_name.values)###\n",
    "###Also, you need to reshape the arrays and merge them to create a multi-dimensional\n",
    "###array in numpy, similar to a Pandas DataFrame (Hint: np.hstack)\n",
    "# Extract numpy arrays from the DataFrame\n",
    "X_train_array = X_train.values\n",
    "y_train_array = y_train.values.reshape(-1, 1)\n",
    "\n",
    "# Add a bias column to the feature matrix\n",
    "bias_column = np.ones((X_train_array.shape[0], 1))\n",
    "X_train_with_bias = np.hstack((bias_column, X_train_array))\n",
    "\n",
    "# Compute the weight vector theta using the normal equation\n",
    "theta = np.linalg.inv(X_train_with_bias.T @ X_train_with_bias) @ X_train_with_bias.T @ y_train_array\n",
    "print(\"Theta (weights):\", theta)\n",
    "\n"
   ]
  },
  {
   "cell_type": "markdown",
   "id": "4ced6ddc",
   "metadata": {},
   "source": [
    "### Calculate Predictions on Test Set"
   ]
  },
  {
   "cell_type": "code",
   "execution_count": null,
   "id": "a2e9d248",
   "metadata": {},
   "outputs": [],
   "source": [
    "# Convert X_test to a numpy array and add a bias column\n",
    "X_test_array = X_test.values\n",
    "bias_column_test = np.ones((X_test_array.shape[0], 1))\n",
    "X_test_with_bias = np.hstack((bias_column_test, X_test_array))\n",
    "\n",
    "# Calculate predictions using the weight vector theta\n",
    "y_pred = X_test_with_bias @ theta\n",
    "print(\"Predictions on X_test:\", y_pred)\n"
   ]
  },
  {
   "cell_type": "markdown",
   "id": "7e9b0621",
   "metadata": {},
   "source": [
    "### Calculate MSE (Evaluate Model)"
   ]
  },
  {
   "cell_type": "code",
   "execution_count": null,
   "id": "29ee4b66",
   "metadata": {},
   "outputs": [],
   "source": [
    "from sklearn.metrics import mean_squared_error\n",
    "\n",
    "###Evaluate the regression model based on Mean Squared Error###\n",
    "# Calculate Mean Squared Error\n",
    "mse = mean_squared_error(y_test, y_pred)\n",
    "print(\"Mean Squared Error:\", mse)"
   ]
  },
  {
   "cell_type": "markdown",
   "id": "0358baaa",
   "metadata": {},
   "source": []
  },
  {
   "cell_type": "markdown",
   "id": "c47f8829",
   "metadata": {},
   "source": [
    "### Inverse Transform Model's Output"
   ]
  },
  {
   "cell_type": "code",
   "execution_count": null,
   "id": "67936175",
   "metadata": {},
   "outputs": [],
   "source": [
    "# Transform the predictions back to the original scale\n",
    "y_pred_original_scale = y_pred * (data['Price'].max() - data['Price'].min()) + data['Price'].min()\n",
    "print(\"Predictions on original scale:\", y_pred_original_scale)#---------------------------------------\n",
    "# return (data[column] - min) / (max - min)"
   ]
  },
  {
   "cell_type": "markdown",
   "id": "8c401478",
   "metadata": {},
   "source": [
    "### Calcualte Weights Using Gradient Descent"
   ]
  },
  {
   "cell_type": "code",
   "execution_count": null,
   "id": "7e850309",
   "metadata": {},
   "outputs": [
    {
     "data": {
      "text/plain": [
       "array([[0.04137529],\n",
       "       [0.04178703],\n",
       "       [0.00124373]])"
      ]
     },
     "execution_count": 33,
     "metadata": {},
     "output_type": "execute_result"
    }
   ],
   "source": [
    "###Implement Batch GD to compute the weight vector theta###\n",
    "\n",
    "#y_train = y_train.values.reshape(y_train.shape[0], 1)\n",
    "theta0, theta1, theta2 = 0, 0, 0\n",
    "alpha = 0.01\n",
    "epochs = 100\n",
    "#n = X_train.shape[0]\n",
    "\n",
    "for i in range(epochs):\n",
    "    # Compute predictions\n",
    "    y_pred_gd = X_train_with_bias @ np.array([theta0, theta1, theta2]).reshape(-1, 1)\n",
    "\n",
    "    # Compute gradients\n",
    "    gradients = -(2 / X_train_with_bias.shape[0]) * (X_train_with_bias.T @ (y_train_array - y_pred_gd))\n",
    "\n",
    "    # Update weights\n",
    "    theta0 -= alpha * gradients[0, 0]\n",
    "    theta1 -= alpha * gradients[1, 0]\n",
    "    theta2 -= alpha * gradients[2, 0]\n",
    "\n",
    "theta_gd = np.vstack((theta0, theta1, theta2))\n",
    "theta_gd\n",
    "\n",
    "#--------------------------------------------------\n",
    "\n"
   ]
  },
  {
   "cell_type": "markdown",
   "id": "9334d75b",
   "metadata": {},
   "source": [
    "### Calculate Predictions on Test Test"
   ]
  },
  {
   "cell_type": "code",
   "execution_count": null,
   "id": "cd4e537c",
   "metadata": {},
   "outputs": [
    {
     "data": {
      "text/plain": [
       "array([[0.04162036],\n",
       "       [0.04171519],\n",
       "       [0.00122775]])"
      ]
     },
     "execution_count": 32,
     "metadata": {},
     "output_type": "execute_result"
    }
   ],
   "source": [
    "###Calculate y_pred on weights from GD###\n",
    "# Combine the bias column with X_test_array to create the feature matrix for prediction\n",
    "X_test_with_bias_gd = np.hstack((bias_column_test, X_test.values))\n",
    "\n",
    "# Calculate predictions using the weights from gradient descent\n",
    "theta_gd = np.array([theta0, theta1, theta2]).reshape(-1, 1)\n",
    "y_pred_gd = X_test_with_bias_gd @ theta_gd\n",
    "print(\"Predictions on X_test using GD weights:\", y_pred_gd)"
   ]
  },
  {
   "cell_type": "markdown",
   "id": "3d87d01e",
   "metadata": {},
   "source": [
    "### Calculate MSE (Evaluate Model)"
   ]
  },
  {
   "cell_type": "code",
   "execution_count": null,
   "id": "eecdf4c2",
   "metadata": {},
   "outputs": [],
   "source": [
    "###Calculate MSE on y_pred from GD###\n",
    "mse_gd = mean_squared_error(y_test, y_pred_gd)\n",
    "print(\"Mean Squared Error using GD weights:\", mse_gd)\n"
   ]
  },
  {
   "cell_type": "markdown",
   "id": "63759657",
   "metadata": {},
   "source": [
    "### Compare the two Approaches based on MSE ###"
   ]
  },
  {
   "cell_type": "code",
   "execution_count": null,
   "id": "89b81d41",
   "metadata": {},
   "outputs": [],
   "source": [
    "###Which approach is more accurate?###\n",
    "# Compare the two approaches based on MSE\n",
    "if mse < mse_gd:\n",
    "    print(\"The Normal Equation approach is more accurate with a lower MSE:\", mse)\n",
    "else:\n",
    "    print(\"The Gradient Descent approach is more accurate with a lower MSE:\", mse_gd)\n",
    "\n",
    "# Compare the two approaches based on speed\n",
    "# Normal Equation involves matrix inversion, which can be computationally expensive for large datasets\n",
    "# Gradient Descent involves iterative updates, which can be slower for convergence\n",
    "print(\"The Normal Equation approach is generally faster for smaller datasets.\")\n",
    "print(\"The Gradient Descent approach is generally better for larger datasets or when matrix inversion is computationally expensive.\")\n"
   ]
  },
  {
   "cell_type": "code",
   "execution_count": null,
   "id": "6ed57749",
   "metadata": {},
   "outputs": [],
   "source": []
  }
 ],
 "metadata": {
  "kernelspec": {
   "display_name": "Python 3",
   "language": "python",
   "name": "python3"
  },
  "language_info": {
   "codemirror_mode": {
    "name": "ipython",
    "version": 3
   },
   "file_extension": ".py",
   "mimetype": "text/x-python",
   "name": "python",
   "nbconvert_exporter": "python",
   "pygments_lexer": "ipython3",
   "version": "3.13.3"
  }
 },
 "nbformat": 4,
 "nbformat_minor": 5
}
